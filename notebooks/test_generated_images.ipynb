{
 "cells": [
  {
   "cell_type": "code",
   "execution_count": null,
   "id": "0",
   "metadata": {},
   "outputs": [],
   "source": [
    "import feat\n",
    "from feat import Detector\n",
    "import cv2\n",
    "import matplotlib.pyplot as plt\n",
    "\n",
    "print( feat.__version__)"
   ]
  },
  {
   "cell_type": "code",
   "execution_count": null,
   "id": "1",
   "metadata": {},
   "outputs": [],
   "source": [
    "detector = Detector( landmark_model=\"mobilefacenet\", au_model=\"xgb\", emotion_model=\"resmasknet\",  identity_model=\"facenet\")"
   ]
  },
  {
   "cell_type": "code",
   "execution_count": null,
   "id": "2",
   "metadata": {},
   "outputs": [],
   "source": [
    "img1 = \"../testphotocase/Image 21-10-2025 at 11.45.jpg\"\n",
    "img2 = \"../testphotocase/Image 21-10-2025 at 11.46.jpg\"\n",
    "\n",
    "image1 = cv2.cvtColor(cv2.imread(img1), cv2.COLOR_BGR2RGB)\n",
    "image2 = cv2.cvtColor(cv2.imread(img2), cv2.COLOR_BGR2RGB)\n",
    "\n",
    "\n",
    "au1 = detector.detect(img1)\n",
    "au2, _ = detector.detect(img2)"
   ]
  },
  {
   "cell_type": "code",
   "execution_count": null,
   "id": "3",
   "metadata": {},
   "outputs": [],
   "source": []
  },
  {
   "cell_type": "code",
   "execution_count": null,
   "id": "4",
   "metadata": {},
   "outputs": [],
   "source": []
  }
 ],
 "metadata": {
  "kernelspec": {
   "display_name": "rsp",
   "language": "python",
   "name": "python3"
  },
  "language_info": {
   "codemirror_mode": {
    "name": "ipython",
    "version": 3
   },
   "file_extension": ".py",
   "mimetype": "text/x-python",
   "name": "python",
   "nbconvert_exporter": "python",
   "pygments_lexer": "ipython3",
   "version": "3.11.14"
  }
 },
 "nbformat": 4,
 "nbformat_minor": 5
}
